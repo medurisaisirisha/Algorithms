{
 "cells": [
  {
   "cell_type": "markdown",
   "id": "11eb2195-4a8c-4f60-95ea-4bab6ecc60ee",
   "metadata": {},
   "source": [
    "# Problem Statement\n",
    "\n",
    "Let's use the two data points  - a house with 1000 square feet sold for \\\\$300,000 and a house with 2000 square feet sold for \\\\$500,000.\n",
    "\n",
    "| Size (1000 sqft)     | Price (1000s of dollars) |\n",
    "| ----------------| ------------------------ |\n",
    "| 1               | 300                      |\n",
    "| 2               | 500                      |"
   ]
  },
  {
   "cell_type": "code",
   "execution_count": 1,
   "id": "02029b49-864c-424d-8f2a-0d8910b5fc86",
   "metadata": {},
   "outputs": [],
   "source": [
    "import numpy as np\n",
    "import math"
   ]
  },
  {
   "cell_type": "code",
   "execution_count": 2,
   "id": "a34e494a-ad13-4fc5-aac9-6dfa48970b20",
   "metadata": {},
   "outputs": [],
   "source": [
    "x_train=np.array([1,2])\n",
    "y_train=np.array([300,500])"
   ]
  },
  {
   "cell_type": "markdown",
   "id": "4f2cd22e-e012-4ae6-9354-36ea96ece941",
   "metadata": {},
   "source": [
    "The equation for cost with one variable is:\n",
    "  $$J(w,b) = \\frac{1}{2m} \\sum\\limits_{i = 0}^{m-1} (f_{w,b}(x^{(i)}) - y^{(i)})^2 \\tag{1}$$ "
   ]
  },
  {
   "cell_type": "code",
   "execution_count": 3,
   "id": "3678d237-1401-4ad0-aa70-9639c22ed853",
   "metadata": {},
   "outputs": [],
   "source": [
    "def compute_cost(x,y,w,b):\n",
    "    m=x.shape[0]\n",
    "    cost=0\n",
    "    for i in range(m):\n",
    "        fwb_x=w*x[i]+b\n",
    "        cost=cost+(fwb_x-y[i])**2\n",
    "    total_cost=1/(2*m)*cost\n",
    "    return total_cost"
   ]
  },
  {
   "cell_type": "markdown",
   "id": "bb172cb3-853a-46b3-b478-a39da2ec2881",
   "metadata": {},
   "source": [
    "The gradient is defined as:\n",
    "$$\n",
    "\\begin{align}\n",
    "\\frac{\\partial J(w,b)}{\\partial w}  &= \\frac{1}{m} \\sum\\limits_{i = 0}^{m-1} (f_{w,b}(x^{(i)}) - y^{(i)})x^{(i)}\\\\\n",
    "  \\frac{\\partial J(w,b)}{\\partial b}  &= \\frac{1}{m} \\sum\\limits_{i = 0}^{m-1} (f_{w,b}(x^{(i)}) - y^{(i)}) \\\n",
    "\\end{align}\n",
    "$$"
   ]
  },
  {
   "cell_type": "code",
   "execution_count": 4,
   "id": "267f9849-1570-4bb0-9170-7e597427199e",
   "metadata": {},
   "outputs": [],
   "source": [
    "def compute_gradient(x,y,w,b):\n",
    "    m=x.shape[0]\n",
    "    dj_dw=0\n",
    "    dj_db=0\n",
    "    for i in range(m):\n",
    "        fwb_x=w*x[i]+b\n",
    "        dj_dw_i=(fwb_x-y[i])*x[i]\n",
    "        dj_db_i=(fwb_x-y[i])\n",
    "        dj_dw+=dj_dw_i\n",
    "        dj_db+=dj_db_i\n",
    "    dj_dw=dj_dw/m\n",
    "    dj_db=dj_db/m\n",
    "    return dj_dw,dj_db        "
   ]
  },
  {
   "cell_type": "markdown",
   "id": "9d7798bb-efcc-4fa3-b0bc-4692e3a6562d",
   "metadata": {},
   "source": [
    "$$\\begin{align*} \\text{gradient}&\\text{ descent:} \\; \\lbrace \\newline\n",
    "\\;  w &= w -  \\alpha \\frac{\\partial J(w,b)}{\\partial w} \\tag{3}  \\; \\newline \n",
    " b &= b -  \\alpha \\frac{\\partial J(w,b)}{\\partial b}  \\newline \\rbrace\n",
    "\\end{align*}$$\n",
    "where, parameters $w$, $b$ are updated simultaneously."
   ]
  },
  {
   "cell_type": "code",
   "execution_count": 5,
   "id": "73877324-309c-4109-821f-6d1d976ad667",
   "metadata": {},
   "outputs": [],
   "source": [
    "def gradient_descent(x, y, w_in, b_in, alpha, num_iters, cost_function, gradient_function):\n",
    "    J_history=[]\n",
    "    p_history=[]\n",
    "    b=b_in\n",
    "    w=w_in\n",
    "    for i in range(num_iters):\n",
    "        dj_dw,dj_db=gradient_function(x,y,w,b)\n",
    "        b=b-alpha*dj_db\n",
    "        w=w-alpha*dj_dw\n",
    "        J_history.append(cost_function(x,y,w,b))\n",
    "        p_history.append([w,b])\n",
    "        if(i%math.ceil(num_iters/10)==0):\n",
    "            print(f\"Iteration {i}: Cost {J_history[-1]:0.2e}\",\n",
    "                  f\"dj_dw: {dj_dw:0.3e},dj_db:{dj_db:0.3e}\",\n",
    "                  f\"w:{w:0.3e},b:{b:0.5e}\")\n",
    "    return w, b, J_history, p_history    "
   ]
  },
  {
   "cell_type": "code",
   "execution_count": 6,
   "id": "ad787448-ead5-470e-ad06-60194c0804fb",
   "metadata": {},
   "outputs": [
    {
     "name": "stdout",
     "output_type": "stream",
     "text": [
      "Iteration 0: Cost 7.93e+04 dj_dw: -6.500e+02,dj_db:-4.000e+02 w:6.500e+00,b:4.00000e+00\n",
      "Iteration 1000: Cost 3.41e+00 dj_dw: -3.712e-01,dj_db:6.007e-01 w:1.949e+02,b:1.08228e+02\n",
      "Iteration 2000: Cost 7.93e-01 dj_dw: -1.789e-01,dj_db:2.895e-01 w:1.975e+02,b:1.03966e+02\n",
      "Iteration 3000: Cost 1.84e-01 dj_dw: -8.625e-02,dj_db:1.396e-01 w:1.988e+02,b:1.01912e+02\n",
      "Iteration 4000: Cost 4.28e-02 dj_dw: -4.158e-02,dj_db:6.727e-02 w:1.994e+02,b:1.00922e+02\n",
      "Iteration 5000: Cost 9.95e-03 dj_dw: -2.004e-02,dj_db:3.243e-02 w:1.997e+02,b:1.00444e+02\n",
      "Iteration 6000: Cost 2.31e-03 dj_dw: -9.660e-03,dj_db:1.563e-02 w:1.999e+02,b:1.00214e+02\n",
      "Iteration 7000: Cost 5.37e-04 dj_dw: -4.657e-03,dj_db:7.535e-03 w:1.999e+02,b:1.00103e+02\n",
      "Iteration 8000: Cost 1.25e-04 dj_dw: -2.245e-03,dj_db:3.632e-03 w:2.000e+02,b:1.00050e+02\n",
      "Iteration 9000: Cost 2.90e-05 dj_dw: -1.082e-03,dj_db:1.751e-03 w:2.000e+02,b:1.00024e+02\n",
      "(w,b) found by gradient descent: (199.9929,100.0116)\n"
     ]
    }
   ],
   "source": [
    "w_init=0\n",
    "b_init=0\n",
    "iterations=10000\n",
    "tmp_alpha=1.0e-2\n",
    "w_final,b_final,J_hist,p_hist=gradient_descent(x_train,y_train,w_init,b_init,tmp_alpha,iterations,compute_cost,compute_gradient)\n",
    "print(f\"(w,b) found by gradient descent: ({w_final:8.4f},{b_final:8.4f})\")"
   ]
  },
  {
   "cell_type": "code",
   "execution_count": 7,
   "id": "57b78253-a219-4985-8d97-aad66749f820",
   "metadata": {},
   "outputs": [
    {
     "name": "stdout",
     "output_type": "stream",
     "text": [
      "1000 sft house prediction 300.0 Thousand dollars\n",
      "2000 sft house prediction 500.0 Thousand dollars\n",
      "3000 sft house prediction 700.0 Thousand dollars\n",
      "4000 sft house prediction 900.0 Thousand dollars\n"
     ]
    }
   ],
   "source": [
    "print(f\"1000 sft house prediction {w_final*1.0+ b_final:0.1f} Thousand dollars\")\n",
    "print(f\"2000 sft house prediction {w_final*2.0+b_final:0.1f} Thousand dollars\")\n",
    "print(f\"3000 sft house prediction {w_final*3.0+ b_final:0.1f} Thousand dollars\")\n",
    "print(f\"4000 sft house prediction {w_final*4.0+b_final:0.1f} Thousand dollars\")"
   ]
  },
  {
   "cell_type": "code",
   "execution_count": null,
   "id": "f053cd30-71c5-48c4-8f6f-4126119235e5",
   "metadata": {},
   "outputs": [],
   "source": []
  }
 ],
 "metadata": {
  "kernelspec": {
   "display_name": "Python 3 (ipykernel)",
   "language": "python",
   "name": "python3"
  },
  "language_info": {
   "codemirror_mode": {
    "name": "ipython",
    "version": 3
   },
   "file_extension": ".py",
   "mimetype": "text/x-python",
   "name": "python",
   "nbconvert_exporter": "python",
   "pygments_lexer": "ipython3",
   "version": "3.8.10"
  }
 },
 "nbformat": 4,
 "nbformat_minor": 5
}
